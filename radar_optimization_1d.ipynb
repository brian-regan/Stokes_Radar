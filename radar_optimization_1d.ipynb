{
 "cells": [
  {
   "cell_type": "code",
   "execution_count": 73,
   "metadata": {
    "collapsed": true
   },
   "outputs": [],
   "source": [
    "from bayes_opt import BayesianOptimization\n",
    "import numpy as np\n",
    "from plotutil import Figure\n",
    "import matplotlib.pyplot as plt\n",
    "from matplotlib import gridspec\n",
    "%matplotlib inline\n",
    "\n",
    "plt.rcParams['image.cmap'] = 'jet'"
   ]
  },
  {
   "cell_type": "code",
   "execution_count": 74,
   "metadata": {},
   "outputs": [],
   "source": [
    "def posterior(bo, x):\n",
    "    bo.gp.fit(bo.X, bo.Y)\n",
    "    mu, sigma = bo.gp.predict(x, return_std=True)\n",
    "    return mu, sigma\n",
    "    \n",
    "\n",
    "def plot_gp(bo, x, y=None, axes=None, high_light=False,\n",
    "            y_lim=(None, None)):\n",
    "    x = x.reshape(-1, 1)\n",
    "    \n",
    "    if axes is None:\n",
    "        fig = plt.figure(figsize=(6, 4.5))\n",
    "        fig.suptitle('Gaussian Process and Utility Function After {} Steps'.format(len(bo.X)), fontdict={'size':30})\n",
    "        \n",
    "        gs = gridspec.GridSpec(2, 1, height_ratios=[3, 1]) \n",
    "        axis = plt.subplot(gs[0])\n",
    "        acq = plt.subplot(gs[1])\n",
    "    else:\n",
    "        axis = axes[0]\n",
    "        acq = axes[1]\n",
    "    \n",
    "    mu, sigma = posterior(bo, x)\n",
    "    if y is not None:\n",
    "        axis.plot(x, y, linewidth=3, label='Target')\n",
    "    axis.plot(bo.X.flatten(), bo.Y, 'D', markersize=8, label=u'Observations', color='r')\n",
    "    if high_light:\n",
    "        axis.plot(bo.X[-1], bo.Y[-1], 'D', markersize=8, label=u'Observations', color='gold')\n",
    "    axis.plot(x, mu, '--', color='k', label='Prediction')\n",
    "\n",
    "    axis.fill(np.concatenate([x, x[::-1]]), \n",
    "              np.concatenate([mu - 1.9600 * sigma, (mu + 1.9600 * sigma)[::-1]]),\n",
    "        alpha=.6, fc='c', ec='None', label='95% confidence interval')\n",
    "    \n",
    "    axis.set_xlim((np.min(x), np.max(x)))\n",
    "    axis.set_ylim(y_lim)\n",
    "    axis.set_ylabel('S(x)', fontdict={'size':20})\n",
    "    axis.set_xlabel('x', fontdict={'size':20})\n",
    "    \n",
    "    utility = bo.util.utility(x, bo.gp, 0)\n",
    "    acq.plot(x, utility, label='Utility Function', color='purple')\n",
    "    acq.plot(x[np.argmax(utility)], np.max(utility), '*', markersize=15, \n",
    "             label=u'Next Best Guess', markerfacecolor='gold', markeredgecolor='k', markeredgewidth=1)\n",
    "    acq.set_xlim((np.min(x), np.max(x)))\n",
    "    acq.set_ylim((0, np.max(utility) * 1.5))\n",
    "    acq.set_ylabel('Utility', fontdict={'size':20})\n",
    "    acq.set_xlabel('x', fontdict={'size':20})\n",
    "    \n",
    "    axis.legend(loc=2, bbox_to_anchor=(1.01, 1), borderaxespad=0.)\n",
    "    acq.legend(loc=2, bbox_to_anchor=(1.01, 1), borderaxespad=0.)"
   ]
  },
  {
   "cell_type": "code",
   "execution_count": 75,
   "metadata": {},
   "outputs": [],
   "source": [
    "# toy problem 1\n",
    "x_range = (0.5, 2.5)\n",
    "grid = np.linspace(*x_range, 100)\n",
    "Q = np.logical_and(grid >= 1, grid <= 2)\n",
    "\n",
    "#plt.plot(grid, Q)"
   ]
  },
  {
   "cell_type": "code",
   "execution_count": 76,
   "metadata": {},
   "outputs": [],
   "source": [
    "# toy problem 2\n",
    "x_range = (-1.5, 2.5)\n",
    "grid = np.linspace(*x_range, 100)\n",
    "Q = np.logical_and(grid >= 1, grid <= 2) + 2*np.logical_and(grid >= -1, grid <= -.5)"
   ]
  },
  {
   "cell_type": "code",
   "execution_count": 77,
   "metadata": {},
   "outputs": [],
   "source": [
    "def R(x_c, grid=grid):\n",
    "    return np.exp(-np.abs(grid-x_c))\n",
    "\n",
    "\n",
    "#plt.plot(grid, R(1.5))"
   ]
  },
  {
   "cell_type": "code",
   "execution_count": 78,
   "metadata": {},
   "outputs": [],
   "source": [
    "S_1 = lambda x: Q*R(x)\n",
    "\n",
    "\n",
    "def S(**kwargs):\n",
    "    x = np.zeros(1)\n",
    "    x[0] = kwargs['x']\n",
    "    S_temp = S_1(x[0])\n",
    "    return np.sum(S_temp.reshape(-1, 1)) / 10\n",
    "\n",
    "#plt.plot(grid, S_1(x=1.5))"
   ]
  },
  {
   "cell_type": "code",
   "execution_count": 79,
   "metadata": {},
   "outputs": [],
   "source": [
    "def plot_QS_gp(Q, S_temp, bo, grid, i, y_lim):\n",
    "    fig = Figure(4, 1, figsize=(16, 12))\n",
    "    fig[0].plot(grid, Q)\n",
    "    if i > 0:\n",
    "        x_last = bo.X[-1]\n",
    "        fig[1].plot(grid, S_temp(x_last))\n",
    "    plot_gp(bo, grid, axes=fig[2:4], high_light=i>0, y_lim=y_lim)\n",
    "    fig[0].set_ylabel('Q(x)', fontdict={'size':20})\n",
    "    fig[0].set_xlim((np.min(grid), np.max(grid)))\n",
    "    fig[1].set_ylabel('Q(x)*R(x)', fontdict={'size':20})\n",
    "    fig[1].set_xlim((np.min(grid), np.max(grid)))\n",
    "    fig[1].set_ylim((0, 2.5))\n",
    "    fig.close('figs', f'bo_1d_{i}')\n",
    "\n",
    "\n",
    "def optimize(bo, init_points, n_iter, y_lim=(None, None)):\n",
    "    bo.maximize(init_points=init_points, n_iter=0)\n",
    "    plot_QS_gp(Q, S_1, bo, grid, 0, y_lim=y_lim)\n",
    "    for i in range(n_iter):\n",
    "        bo.maximize(n_iter=1)\n",
    "        plot_QS_gp(Q, S_1, bo, grid, i+1, y_lim=y_lim)"
   ]
  },
  {
   "cell_type": "code",
   "execution_count": 80,
   "metadata": {},
   "outputs": [
    {
     "name": "stdout",
     "output_type": "stream",
     "text": [
      "\u001b[31mInitialization\u001b[0m\n\u001b[94m-----------------------------------------\u001b[0m\n Step |   Time |      Value |         x | \n    1 | 00m00s | \u001b[35m   1.98349\u001b[0m | \u001b[32m  -1.0610\u001b[0m | \n    2 | 00m00s |    1.73903 |    1.9891 | \n    3 | 00m00s |    1.64414 |    0.2483 | \n    4 | 00m00s |    1.71983 |    0.6461 | \n    5 | 00m00s | \u001b[35m   2.19336\u001b[0m | \u001b[32m   1.5654\u001b[0m | \n"
     ]
    },
    {
     "name": "stdout",
     "output_type": "stream",
     "text": [
      "\u001b[31mBayesian Optimization\u001b[0m\n\u001b[94m-----------------------------------------\u001b[0m\n Step |   Time |      Value |         x | \n"
     ]
    },
    {
     "name": "stdout",
     "output_type": "stream",
     "text": [
      "\u001b[31mBayesian Optimization\u001b[0m\n\u001b[94m-----------------------------------------\u001b[0m\n Step |   Time |      Value |         x | \n"
     ]
    },
    {
     "name": "stdout",
     "output_type": "stream",
     "text": [
      "    6 | 00m02s |    1.27877 |   -1.5000 | \n"
     ]
    },
    {
     "name": "stdout",
     "output_type": "stream",
     "text": [
      "\u001b[31mBayesian Optimization\u001b[0m\n\u001b[94m-----------------------------------------\u001b[0m\n Step |   Time |      Value |         x | \n"
     ]
    },
    {
     "name": "stdout",
     "output_type": "stream",
     "text": [
      "    7 | 00m01s | \u001b[35m   2.28745\u001b[0m"
     ]
    },
    {
     "name": "stdout",
     "output_type": "stream",
     "text": [
      " | \u001b[32m  -0.5312\u001b[0m | \n\u001b[31mBayesian Optimization\u001b[0m\n\u001b[94m-----------------------------------------\u001b[0m\n Step |   Time |      Value |         x | \n"
     ]
    },
    {
     "name": "stdout",
     "output_type": "stream",
     "text": [
      "    8 | 00m02s |    2.19361 |    1.2270 | \n"
     ]
    },
    {
     "name": "stdout",
     "output_type": "stream",
     "text": [
      "\u001b[31mBayesian Optimization\u001b[0m\n\u001b[94m-----------------------------------------\u001b[0m\n Step |   Time |      Value |         x | \n"
     ]
    },
    {
     "name": "stdout",
     "output_type": "stream",
     "text": [
      "    9 | 00m02s | \u001b[35m   2.41390\u001b[0m | \u001b[32m  -0.7296\u001b[0m | \n"
     ]
    },
    {
     "name": "stdout",
     "output_type": "stream",
     "text": [
      "\u001b[31mBayesian Optimization\u001b[0m\n\u001b[94m-----------------------------------------\u001b[0m\n Step |   Time |      Value |         x | \n"
     ]
    },
    {
     "name": "stdout",
     "output_type": "stream",
     "text": [
      "   10 | 00m03s |    2.40417 |   -0.6662 | \n"
     ]
    },
    {
     "name": "stdout",
     "output_type": "stream",
     "text": [
      "\u001b[31mBayesian Optimization\u001b[0m\n\u001b[94m-----------------------------------------\u001b[0m\n Step |   Time |      Value |         x | \n"
     ]
    },
    {
     "name": "stdout",
     "output_type": "stream",
     "text": [
      "   11 | 00m05s |    2.39110 |   -0.7923 | \n"
     ]
    },
    {
     "name": "stdout",
     "output_type": "stream",
     "text": [
      "\u001b[31mBayesian Optimization\u001b[0m\n\u001b[94m-----------------------------------------\u001b[0m\n Step |   Time |      Value |         x | \n"
     ]
    },
    {
     "name": "stdout",
     "output_type": "stream",
     "text": [
      "   12 | 00m08s |    2.41295 |   -0.7025 | \n"
     ]
    },
    {
     "name": "stdout",
     "output_type": "stream",
     "text": [
      "\u001b[31mBayesian Optimization\u001b[0m\n\u001b[94m-----------------------------------------\u001b[0m\n Step |   Time |      Value |         x | \n"
     ]
    },
    {
     "name": "stderr",
     "output_type": "stream",
     "text": [
      "/Users/tomokatsu/.pyenv/versions/anaconda3-4.3.0/lib/python3.6/site-packages/sklearn/gaussian_process/gpr.py:427: UserWarning: fmin_l_bfgs_b terminated abnormally with the  state: {'grad': array([ -1.16046106e-05]), 'task': b'ABNORMAL_TERMINATION_IN_LNSRCH', 'funcalls': 55, 'nit': 5, 'warnflag': 2}\n  \" state: %s\" % convergence_dict)\n"
     ]
    },
    {
     "name": "stderr",
     "output_type": "stream",
     "text": [
      "/Users/tomokatsu/.pyenv/versions/anaconda3-4.3.0/lib/python3.6/site-packages/sklearn/gaussian_process/gpr.py:308: UserWarning: Predicted variances smaller than 0. Setting those variances to 0.\n  warnings.warn(\"Predicted variances smaller than 0. \"\n"
     ]
    },
    {
     "name": "stdout",
     "output_type": "stream",
     "text": [
      "   13 | 00m10s |    2.40907 |   -0.7488 | \n"
     ]
    },
    {
     "name": "stdout",
     "output_type": "stream",
     "text": [
      "\u001b[31mBayesian Optimization\u001b[0m\n\u001b[94m-----------------------------------------\u001b[0m\n Step |   Time |      Value |         x | \n"
     ]
    },
    {
     "name": "stdout",
     "output_type": "stream",
     "text": [
      "   14 | 00m09s |    2.41324 |   -0.7171 | \n"
     ]
    },
    {
     "name": "stderr",
     "output_type": "stream",
     "text": [
      "/Users/tomokatsu/.pyenv/versions/anaconda3-4.3.0/lib/python3.6/site-packages/sklearn/gaussian_process/gpr.py:427: UserWarning: fmin_l_bfgs_b terminated abnormally with the  state: {'grad': array([ -1.16588865e-05]), 'task': b'ABNORMAL_TERMINATION_IN_LNSRCH', 'funcalls': 60, 'nit': 6, 'warnflag': 2}\n  \" state: %s\" % convergence_dict)\n"
     ]
    },
    {
     "name": "stdout",
     "output_type": "stream",
     "text": [
      "\u001b[31mBayesian Optimization\u001b[0m\n\u001b[94m-----------------------------------------\u001b[0m\n Step |   Time |      Value |         x | \n"
     ]
    },
    {
     "name": "stdout",
     "output_type": "stream",
     "text": [
      "   15 | 00m11s |    2.41259 | "
     ]
    },
    {
     "name": "stdout",
     "output_type": "stream",
     "text": [
      "  -0.6907 | \n"
     ]
    }
   ],
   "source": [
    "y_lim = (0, 3)\n",
    "bo = BayesianOptimization(S, {'x': x_range})\n",
    "optimize(bo, init_points=5, n_iter=10, y_lim=y_lim)"
   ]
  },
  {
   "cell_type": "code",
   "execution_count": null,
   "metadata": {},
   "outputs": [],
   "source": [
    ""
   ]
  },
  {
   "cell_type": "code",
   "execution_count": 81,
   "metadata": {},
   "outputs": [],
   "source": [
    "#bo = BayesianOptimization(S, {'x': x_range})\n",
    "#bo.maximize(init_points=3, n_iter=10)\n",
    "#plot_gp(bo, grid)"
   ]
  },
  {
   "cell_type": "code",
   "execution_count": null,
   "metadata": {},
   "outputs": [],
   "source": [
    ""
   ]
  }
 ],
 "metadata": {
  "kernelspec": {
   "display_name": "Python 2",
   "language": "python",
   "name": "python2"
  },
  "language_info": {
   "codemirror_mode": {
    "name": "ipython",
    "version": 2.0
   },
   "file_extension": ".py",
   "mimetype": "text/x-python",
   "name": "python",
   "nbconvert_exporter": "python",
   "pygments_lexer": "ipython2",
   "version": "2.7.6"
  }
 },
 "nbformat": 4,
 "nbformat_minor": 0
}